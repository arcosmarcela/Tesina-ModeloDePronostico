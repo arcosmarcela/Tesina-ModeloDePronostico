{
 "cells": [
  {
   "cell_type": "code",
   "execution_count": 16,
   "metadata": {},
   "outputs": [
    {
     "name": "stdout",
     "output_type": "stream",
     "text": [
      "Requirement already satisfied: onnxmltools in /opt/anaconda3/lib/python3.8/site-packages (1.11.1)\n",
      "Requirement already satisfied: numpy in /opt/anaconda3/lib/python3.8/site-packages (from onnxmltools) (1.22.0)\n",
      "Requirement already satisfied: skl2onnx in /opt/anaconda3/lib/python3.8/site-packages (from onnxmltools) (1.13)\n",
      "Requirement already satisfied: onnx in /opt/anaconda3/lib/python3.8/site-packages (from onnxmltools) (1.12.0)\n",
      "Requirement already satisfied: typing-extensions>=3.6.2.1 in /opt/anaconda3/lib/python3.8/site-packages (from onnx->onnxmltools) (3.7.4.3)\n",
      "Requirement already satisfied: protobuf<=3.20.1,>=3.12.2 in /opt/anaconda3/lib/python3.8/site-packages (from onnx->onnxmltools) (3.19.4)\n",
      "Requirement already satisfied: scikit-learn<=1.1.1 in /opt/anaconda3/lib/python3.8/site-packages (from skl2onnx->onnxmltools) (1.1.1)\n",
      "Requirement already satisfied: onnxconverter-common>=1.7.0 in /opt/anaconda3/lib/python3.8/site-packages (from skl2onnx->onnxmltools) (1.12.2)\n",
      "Requirement already satisfied: scipy>=1.0 in /opt/anaconda3/lib/python3.8/site-packages (from skl2onnx->onnxmltools) (1.5.2)\n",
      "Requirement already satisfied: joblib>=1.0.0 in /opt/anaconda3/lib/python3.8/site-packages (from scikit-learn<=1.1.1->skl2onnx->onnxmltools) (1.1.0)\n",
      "Requirement already satisfied: threadpoolctl>=2.0.0 in /opt/anaconda3/lib/python3.8/site-packages (from scikit-learn<=1.1.1->skl2onnx->onnxmltools) (2.1.0)\n",
      "Note: you may need to restart the kernel to use updated packages.\n"
     ]
    }
   ],
   "source": [
    "pip install onnxmltools"
   ]
  },
  {
   "cell_type": "code",
   "execution_count": 3,
   "metadata": {},
   "outputs": [],
   "source": [
    "from pyquickhelper.helpgen.graphviz_helper import plot_graphviz\n",
    "from mlprodict.onnxrt import OnnxInference\n",
    "import numpy\n",
    "import onnxruntime as rt\n",
    "from sklearn.datasets import load_iris, load_diabetes, make_classification\n",
    "from sklearn.model_selection import train_test_split\n",
    "from sklearn.pipeline import Pipeline\n",
    "from sklearn.preprocessing import StandardScaler\n",
    "from xgboost import XGBClassifier, XGBRegressor, DMatrix, train as train_xgb\n",
    "from skl2onnx.common.data_types import FloatTensorType\n",
    "from skl2onnx import convert_sklearn, to_onnx, update_registered_converter\n",
    "from skl2onnx.common.shape_calculator import (\n",
    "    calculate_linear_classifier_output_shapes,\n",
    "    calculate_linear_regressor_output_shapes)\n",
    "from onnxmltools.convert.xgboost.operator_converters.XGBoost import (\n",
    "    convert_xgboost)\n",
    "from onnxmltools.convert import convert_xgboost as convert_xgboost_booster\n",
    "\n",
    "\n"
   ]
  },
  {
   "cell_type": "code",
   "execution_count": 6,
   "metadata": {},
   "outputs": [
    {
     "name": "stdout",
     "output_type": "stream",
     "text": [
      "Unable to find a shape calculator for type '<class 'xgboost.sklearn.XGBClassifier'>'.\n",
      "It usually means the pipeline being converted contains a\n",
      "transformer or a predictor with no corresponding converter\n",
      "implemented in sklearn-onnx. If the converted is implemented\n",
      "in another library, you need to register\n",
      "the converted so that it can be used by sklearn-onnx (function\n",
      "update_registered_converter). If the model is not yet covered\n",
      "by sklearn-onnx, you may raise an issue to\n",
      "https://github.com/onnx/sklearn-onnx/issues\n",
      "to get the converter implemented or even contribute to the\n",
      "project. If the model is a custom model, a new converter must\n",
      "be implemented. Examples can be found in the gallery.\n",
      "\n"
     ]
    }
   ],
   "source": [
    "\n",
    "data = load_iris()\n",
    "X = data.data[:, :2]\n",
    "y = data.target\n",
    "\n",
    "ind = numpy.arange(X.shape[0])\n",
    "numpy.random.shuffle(ind)\n",
    "X = X[ind, :].copy()\n",
    "y = y[ind].copy()\n",
    "\n",
    "pipe = Pipeline([('scaler', StandardScaler()),\n",
    "                 ('xgb', XGBClassifier(n_estimators=3))])\n",
    "pipe.fit(X, y)\n",
    "\n",
    "# The conversion fails but it is expected.\n",
    "\n",
    "try:\n",
    "    convert_sklearn(pipe, 'pipeline_xgboost',\n",
    "                    [('input', FloatTensorType([None, 2]))],\n",
    "                    target_opset={'': 12, 'ai.onnx.ml': 2})\n",
    "except Exception as e:\n",
    "    print(e)\n",
    "    \n",
    "\n",
    "\n",
    "# The error message tells no converter was found\n",
    "# for :epkg:`XGBoost` models. By default, :epkg:`sklearn-onnx`\n",
    "# only handles models from :epkg:`scikit-learn` but it can\n",
    "# be extended to every model following :epkg:`scikit-learn`\n",
    "# API as long as the module knows there exists a converter\n",
    "# for every model used in a pipeline. That's why\n",
    "# we need to register a converter.\n"
   ]
  },
  {
   "cell_type": "code",
   "execution_count": 8,
   "metadata": {},
   "outputs": [],
   "source": [
    "update_registered_converter(\n",
    "    XGBClassifier, 'XGBoostXGBClassifier',\n",
    "    calculate_linear_classifier_output_shapes, convert_xgboost,\n",
    "    options={'nocl': [True, False], 'zipmap': [True, False, 'columns']})"
   ]
  },
  {
   "cell_type": "code",
   "execution_count": 9,
   "metadata": {},
   "outputs": [],
   "source": [
    "model_onnx = convert_sklearn(\n",
    "    pipe, 'pipeline_xgboost',\n",
    "    [('input', FloatTensorType([None, 2]))],\n",
    "    target_opset={'': 12, 'ai.onnx.ml': 2})\n",
    "\n",
    "# And save.\n",
    "with open(\"pipeline_xgboost.onnx\", \"wb\") as f:\n",
    "    f.write(model_onnx.SerializeToString())"
   ]
  },
  {
   "cell_type": "code",
   "execution_count": 10,
   "metadata": {},
   "outputs": [
    {
     "name": "stdout",
     "output_type": "stream",
     "text": [
      "predict [2 1 2 1 1]\n",
      "predict_proba [[0.15291634 0.17558591 0.6714977 ]]\n"
     ]
    }
   ],
   "source": [
    "print(\"predict\", pipe.predict(X[:5]))\n",
    "print(\"predict_proba\", pipe.predict_proba(X[:1]))"
   ]
  },
  {
   "cell_type": "code",
   "execution_count": 11,
   "metadata": {},
   "outputs": [
    {
     "name": "stdout",
     "output_type": "stream",
     "text": [
      "predict [2 1 2 1 1]\n",
      "predict_proba [{0: 0.15291635692119598, 1: 0.17558592557907104, 2: 0.6714977622032166}]\n"
     ]
    }
   ],
   "source": [
    "sess = rt.InferenceSession(\"pipeline_xgboost.onnx\")\n",
    "pred_onx = sess.run(None, {\"input\": X[:5].astype(numpy.float32)})\n",
    "print(\"predict\", pred_onx[0])\n",
    "print(\"predict_proba\", pred_onx[1][:1])"
   ]
  },
  {
   "cell_type": "code",
   "execution_count": 12,
   "metadata": {},
   "outputs": [
    {
     "ename": "FileNotFoundError",
     "evalue": "[Errno 2] No such file or directory: 'dot'",
     "output_type": "error",
     "traceback": [
      "\u001b[0;31m---------------------------------------------------------------------------\u001b[0m",
      "\u001b[0;31mFileNotFoundError\u001b[0m                         Traceback (most recent call last)",
      "\u001b[0;32m<ipython-input-12-45df7713b49c>\u001b[0m in \u001b[0;36m<module>\u001b[0;34m\u001b[0m\n\u001b[1;32m      1\u001b[0m \u001b[0moinf\u001b[0m \u001b[0;34m=\u001b[0m \u001b[0mOnnxInference\u001b[0m\u001b[0;34m(\u001b[0m\u001b[0mmodel_onnx\u001b[0m\u001b[0;34m)\u001b[0m\u001b[0;34m\u001b[0m\u001b[0;34m\u001b[0m\u001b[0m\n\u001b[0;32m----> 2\u001b[0;31m \u001b[0max\u001b[0m \u001b[0;34m=\u001b[0m \u001b[0mplot_graphviz\u001b[0m\u001b[0;34m(\u001b[0m\u001b[0moinf\u001b[0m\u001b[0;34m.\u001b[0m\u001b[0mto_dot\u001b[0m\u001b[0;34m(\u001b[0m\u001b[0;34m)\u001b[0m\u001b[0;34m)\u001b[0m\u001b[0;34m\u001b[0m\u001b[0;34m\u001b[0m\u001b[0m\n\u001b[0m\u001b[1;32m      3\u001b[0m \u001b[0max\u001b[0m\u001b[0;34m.\u001b[0m\u001b[0mget_xaxis\u001b[0m\u001b[0;34m(\u001b[0m\u001b[0;34m)\u001b[0m\u001b[0;34m.\u001b[0m\u001b[0mset_visible\u001b[0m\u001b[0;34m(\u001b[0m\u001b[0;32mFalse\u001b[0m\u001b[0;34m)\u001b[0m\u001b[0;34m\u001b[0m\u001b[0;34m\u001b[0m\u001b[0m\n\u001b[1;32m      4\u001b[0m \u001b[0max\u001b[0m\u001b[0;34m.\u001b[0m\u001b[0mget_yaxis\u001b[0m\u001b[0;34m(\u001b[0m\u001b[0;34m)\u001b[0m\u001b[0;34m.\u001b[0m\u001b[0mset_visible\u001b[0m\u001b[0;34m(\u001b[0m\u001b[0;32mFalse\u001b[0m\u001b[0;34m)\u001b[0m\u001b[0;34m\u001b[0m\u001b[0;34m\u001b[0m\u001b[0m\n",
      "\u001b[0;32m/opt/anaconda3/lib/python3.8/site-packages/pyquickhelper/helpgen/graphviz_helper.py\u001b[0m in \u001b[0;36mplot_graphviz\u001b[0;34m(dot, ax, temp_dot, temp_img, dpi, keep_axis)\u001b[0m\n\u001b[1;32m     38\u001b[0m     cmd = '\"%s\" -Gdpi=%d -Tpng -o \"%s\" \"%s\"' % (\n\u001b[1;32m     39\u001b[0m         dot_path, dpi, temp_img, temp_dot)\n\u001b[0;32m---> 40\u001b[0;31m     \u001b[0mout\u001b[0m\u001b[0;34m,\u001b[0m \u001b[0merr\u001b[0m \u001b[0;34m=\u001b[0m \u001b[0mrun_cmd\u001b[0m\u001b[0;34m(\u001b[0m\u001b[0mcmd\u001b[0m\u001b[0;34m,\u001b[0m \u001b[0mwait\u001b[0m\u001b[0;34m=\u001b[0m\u001b[0;32mTrue\u001b[0m\u001b[0;34m)\u001b[0m\u001b[0;34m\u001b[0m\u001b[0;34m\u001b[0m\u001b[0m\n\u001b[0m\u001b[1;32m     41\u001b[0m     \u001b[0;32mif\u001b[0m \u001b[0merr\u001b[0m \u001b[0;32mis\u001b[0m \u001b[0;32mnot\u001b[0m \u001b[0;32mNone\u001b[0m\u001b[0;34m:\u001b[0m\u001b[0;34m\u001b[0m\u001b[0;34m\u001b[0m\u001b[0m\n\u001b[1;32m     42\u001b[0m         \u001b[0merr\u001b[0m \u001b[0;34m=\u001b[0m \u001b[0merr\u001b[0m\u001b[0;34m.\u001b[0m\u001b[0mstrip\u001b[0m\u001b[0;34m(\u001b[0m\u001b[0;34m\"\\r\\n\\t \"\u001b[0m\u001b[0;34m)\u001b[0m\u001b[0;34m\u001b[0m\u001b[0;34m\u001b[0m\u001b[0m\n",
      "\u001b[0;32m/opt/anaconda3/lib/python3.8/site-packages/pyquickhelper/loghelper/run_cmd.py\u001b[0m in \u001b[0;36mrun_cmd\u001b[0;34m(cmd, sin, shell, wait, log_error, stop_running_if, encerror, encoding, change_path, communicate, preprocess, timeout, catch_exit, fLOG, tell_if_no_output, prefix_log)\u001b[0m\n\u001b[1;32m    191\u001b[0m \u001b[0;34m\u001b[0m\u001b[0m\n\u001b[1;32m    192\u001b[0m     \u001b[0;32melse\u001b[0m\u001b[0;34m:\u001b[0m\u001b[0;34m\u001b[0m\u001b[0;34m\u001b[0m\u001b[0m\n\u001b[0;32m--> 193\u001b[0;31m         pproc = subprocess.Popen(cmdl,\n\u001b[0m\u001b[1;32m    194\u001b[0m                                  \u001b[0mshell\u001b[0m\u001b[0;34m=\u001b[0m\u001b[0mshell\u001b[0m\u001b[0;34m,\u001b[0m\u001b[0;34m\u001b[0m\u001b[0;34m\u001b[0m\u001b[0m\n\u001b[1;32m    195\u001b[0m                                  stdin=subprocess.PIPE if sin is not None and len(\n",
      "\u001b[0;32m/opt/anaconda3/lib/python3.8/subprocess.py\u001b[0m in \u001b[0;36m__init__\u001b[0;34m(self, args, bufsize, executable, stdin, stdout, stderr, preexec_fn, close_fds, shell, cwd, env, universal_newlines, startupinfo, creationflags, restore_signals, start_new_session, pass_fds, encoding, errors, text)\u001b[0m\n\u001b[1;32m    852\u001b[0m                             encoding=encoding, errors=errors)\n\u001b[1;32m    853\u001b[0m \u001b[0;34m\u001b[0m\u001b[0m\n\u001b[0;32m--> 854\u001b[0;31m             self._execute_child(args, executable, preexec_fn, close_fds,\n\u001b[0m\u001b[1;32m    855\u001b[0m                                 \u001b[0mpass_fds\u001b[0m\u001b[0;34m,\u001b[0m \u001b[0mcwd\u001b[0m\u001b[0;34m,\u001b[0m \u001b[0menv\u001b[0m\u001b[0;34m,\u001b[0m\u001b[0;34m\u001b[0m\u001b[0;34m\u001b[0m\u001b[0m\n\u001b[1;32m    856\u001b[0m                                 \u001b[0mstartupinfo\u001b[0m\u001b[0;34m,\u001b[0m \u001b[0mcreationflags\u001b[0m\u001b[0;34m,\u001b[0m \u001b[0mshell\u001b[0m\u001b[0;34m,\u001b[0m\u001b[0;34m\u001b[0m\u001b[0;34m\u001b[0m\u001b[0m\n",
      "\u001b[0;32m/opt/anaconda3/lib/python3.8/subprocess.py\u001b[0m in \u001b[0;36m_execute_child\u001b[0;34m(self, args, executable, preexec_fn, close_fds, pass_fds, cwd, env, startupinfo, creationflags, shell, p2cread, p2cwrite, c2pread, c2pwrite, errread, errwrite, restore_signals, start_new_session)\u001b[0m\n\u001b[1;32m   1700\u001b[0m                     \u001b[0;32mif\u001b[0m \u001b[0merrno_num\u001b[0m \u001b[0;34m!=\u001b[0m \u001b[0;36m0\u001b[0m\u001b[0;34m:\u001b[0m\u001b[0;34m\u001b[0m\u001b[0;34m\u001b[0m\u001b[0m\n\u001b[1;32m   1701\u001b[0m                         \u001b[0merr_msg\u001b[0m \u001b[0;34m=\u001b[0m \u001b[0mos\u001b[0m\u001b[0;34m.\u001b[0m\u001b[0mstrerror\u001b[0m\u001b[0;34m(\u001b[0m\u001b[0merrno_num\u001b[0m\u001b[0;34m)\u001b[0m\u001b[0;34m\u001b[0m\u001b[0;34m\u001b[0m\u001b[0m\n\u001b[0;32m-> 1702\u001b[0;31m                     \u001b[0;32mraise\u001b[0m \u001b[0mchild_exception_type\u001b[0m\u001b[0;34m(\u001b[0m\u001b[0merrno_num\u001b[0m\u001b[0;34m,\u001b[0m \u001b[0merr_msg\u001b[0m\u001b[0;34m,\u001b[0m \u001b[0merr_filename\u001b[0m\u001b[0;34m)\u001b[0m\u001b[0;34m\u001b[0m\u001b[0;34m\u001b[0m\u001b[0m\n\u001b[0m\u001b[1;32m   1703\u001b[0m                 \u001b[0;32mraise\u001b[0m \u001b[0mchild_exception_type\u001b[0m\u001b[0;34m(\u001b[0m\u001b[0merr_msg\u001b[0m\u001b[0;34m)\u001b[0m\u001b[0;34m\u001b[0m\u001b[0;34m\u001b[0m\u001b[0m\n\u001b[1;32m   1704\u001b[0m \u001b[0;34m\u001b[0m\u001b[0m\n",
      "\u001b[0;31mFileNotFoundError\u001b[0m: [Errno 2] No such file or directory: 'dot'"
     ]
    }
   ],
   "source": [
    "oinf = OnnxInference(model_onnx)\n",
    "ax = plot_graphviz(oinf.to_dot())\n",
    "ax.get_xaxis().set_visible(False)\n",
    "ax.get_yaxis().set_visible(False)"
   ]
  },
  {
   "cell_type": "code",
   "execution_count": 13,
   "metadata": {},
   "outputs": [
    {
     "name": "stdout",
     "output_type": "stream",
     "text": [
      "predict [114.40501  79.9344  116.8517   79.9344   96.63963]\n"
     ]
    }
   ],
   "source": [
    "update_registered_converter(\n",
    "    XGBRegressor, 'XGBoostXGBRegressor',\n",
    "    calculate_linear_regressor_output_shapes, convert_xgboost)\n",
    "\n",
    "\n",
    "data = load_diabetes()\n",
    "x = data.data\n",
    "y = data.target\n",
    "X_train, X_test, y_train, _ = train_test_split(x, y, test_size=0.5)\n",
    "\n",
    "pipe = Pipeline([('scaler', StandardScaler()),\n",
    "                 ('xgb', XGBRegressor(n_estimators=3))])\n",
    "pipe.fit(X_train, y_train)\n",
    "\n",
    "print(\"predict\", pipe.predict(X_test[:5]))"
   ]
  },
  {
   "cell_type": "code",
   "execution_count": 14,
   "metadata": {},
   "outputs": [
    {
     "name": "stdout",
     "output_type": "stream",
     "text": [
      "predict [114.40501  79.9344  116.8517   79.9344   96.63963]\n"
     ]
    }
   ],
   "source": [
    "onx = to_onnx(pipe, X_train.astype(numpy.float32),\n",
    "              target_opset={'': 12, 'ai.onnx.ml': 2})\n",
    "\n",
    "sess = rt.InferenceSession(onx.SerializeToString())\n",
    "pred_onx = sess.run(None, {\"X\": X_test[:5].astype(numpy.float32)})\n",
    "print(\"predict\", pred_onx[0].ravel())"
   ]
  },
  {
   "cell_type": "code",
   "execution_count": 15,
   "metadata": {},
   "outputs": [
    {
     "name": "stdout",
     "output_type": "stream",
     "text": [
      "XGBoost is too recent or onnxmltools too old. Missing required property \"tree_info\".\n"
     ]
    }
   ],
   "source": [
    "x, y = make_classification(n_classes=2, n_features=5,\n",
    "                           n_samples=100,\n",
    "                           random_state=42, n_informative=3)\n",
    "X_train, X_test, y_train, _ = train_test_split(x, y, test_size=0.5,\n",
    "                                               random_state=42)\n",
    "\n",
    "dtrain = DMatrix(X_train, label=y_train)\n",
    "\n",
    "param = {'objective': 'multi:softmax', 'num_class': 3}\n",
    "bst = train_xgb(param, dtrain, 10)\n",
    "\n",
    "initial_type = [('float_input', FloatTensorType([None, X_train.shape[1]]))]\n",
    "\n",
    "try:\n",
    "    onx = convert_xgboost_booster(bst, \"name\", initial_types=initial_type)\n",
    "    cont = True\n",
    "except AssertionError as e:\n",
    "    print(\"XGBoost is too recent or onnxmltools too old.\", e)\n",
    "    cont = False\n",
    "\n",
    "if cont:\n",
    "    sess = rt.InferenceSession(onx.SerializeToString())\n",
    "    input_name = sess.get_inputs()[0].name\n",
    "    label_name = sess.get_outputs()[0].name\n",
    "    pred_onx = sess.run(\n",
    "        [label_name], {input_name: X_test.astype(numpy.float32)})[0]\n",
    "    print(pred_onx)"
   ]
  },
  {
   "cell_type": "code",
   "execution_count": null,
   "metadata": {},
   "outputs": [],
   "source": []
  }
 ],
 "metadata": {
  "kernelspec": {
   "display_name": "Python 3",
   "language": "python",
   "name": "python3"
  },
  "language_info": {
   "codemirror_mode": {
    "name": "ipython",
    "version": 3
   },
   "file_extension": ".py",
   "mimetype": "text/x-python",
   "name": "python",
   "nbconvert_exporter": "python",
   "pygments_lexer": "ipython3",
   "version": "3.8.5"
  }
 },
 "nbformat": 4,
 "nbformat_minor": 4
}
